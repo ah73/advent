{
 "cells": [
  {
   "cell_type": "markdown",
   "metadata": {},
   "source": [
    "# 2019 Coding Advent\n",
    "<p> These problems are from the 2019 <a href=\"https://adventofcode.com/\">Coding Advent Calendar</a>. Significant portions of the questions are copied here.</p> "
   ]
  },
  {
   "cell_type": "markdown",
   "metadata": {},
   "source": [
    "## Day 1: The Tyranny of the Rocket Equation"
   ]
  },
  {
   "cell_type": "markdown",
   "metadata": {},
   "source": [
    "### Part 1\n",
    "<p>\"Fuel required to launch a given module is based on its mass. Specifically, to find the fuel required for a module, take its mass, divide by three, round down, and subtract 2.\"</p>\n",
    "\n",
    "<p>\"The Fuel Counter-Upper needs to know the total fuel requirement. To find it, individually calculate the fuel needed for the mass of each module (your puzzle input), then add together all the fuel values.\"</p>\n",
    "\n",
    "### Part 2\n",
    "<p>Fuel itself requires fuel just like a module - take its mass, divide by three, round down, and subtract 2. However, that fuel also requires fuel, and that fuel requires fuel, and so on. Any mass that would require negative fuel should instead be treated as if it requires zero fuel; the remaining mass, if any, is instead handled by wishing really hard, which has no mass and is outside the scope of this calculation.\n",
    "\n",
    "So, for each module mass, calculate its fuel and add it to the total. Then, treat the fuel amount you just calculated as the input mass and repeat the process, continuing until a fuel requirement is zero or negative.</p>"
   ]
  },
  {
   "cell_type": "code",
   "execution_count": 18,
   "metadata": {},
   "outputs": [
    {
     "name": "stdout",
     "output_type": "stream",
     "text": [
      "33583\n"
     ]
    }
   ],
   "source": [
    "def findfuel(mass):\n",
    "    #use floor division operator // to round down\n",
    "    fuel = mass//3 - 2\n",
    "    return fuel\n",
    "\n",
    "print(findfuel(100756))"
   ]
  },
  {
   "cell_type": "code",
   "execution_count": 22,
   "metadata": {},
   "outputs": [
    {
     "name": "stdout",
     "output_type": "stream",
     "text": [
      "total fuel needed: 5115845\n"
     ]
    }
   ],
   "source": [
    "#declare a file handler object to read the data from the data file\n",
    "f = open(\"Data/day1.txt\", \"r\")\n",
    "\n",
    "#the file is in the form of a string of raw lines. format the data into a list by breaking the string on EOLs\n",
    "values = f.read()\n",
    "values = values.split(\"\\n\")\n",
    "\n",
    "#add all module mass => fuel values together line by line (part 1)\n",
    "sum = 0\n",
    "for x in values:\n",
    "    sum = sum + findfuel(int(x))\n",
    "    #the fuel for the module is known, calculate fuel needed for that fuel, fuel needed for that additional fuel, and on until the additional fuel is <=0.\n",
    "    addedfuel = findfuel(findfuel(int(x)))\n",
    "    while addedfuel > 0:\n",
    "        sum = sum + addedfuel\n",
    "        addedfuel = findfuel(addedfuel)\n",
    "\n",
    "\n",
    "    \n",
    "print(\"total fuel needed: \" + str(sum))\n",
    "f.close()"
   ]
  },
  {
   "cell_type": "markdown",
   "metadata": {},
   "source": [
    "## Day 2\n",
    "\n",
    "### Part 1 \n",
    "<p>\"An Intcode program is a list of integers separated by commas (like 1,0,0,3,99). To run one, start by looking at the first integer (called position 0). Here, you will find an opcode - either 1, 2, or 99. The opcode indicates what to do; for example, 99 means that the program is finished and should immediately halt. Encountering an unknown opcode means something went wrong.\n",
    "\n",
    "Opcode 1 adds together numbers read from two positions and stores the result in a third position. The three integers immediately after the opcode tell you these three positions - the first two indicate the positions from which you should read the input values, and the third indicates the position at which the output should be stored.\n",
    "\n",
    "For example, if your Intcode computer encounters 1,10,20,30, it should read the values at positions 10 and 20, add those values, and then overwrite the value at position 30 with their sum.\n",
    "\n",
    "Opcode 2 works exactly like opcode 1, except it multiplies the two inputs instead of adding them. Again, the three integers after the opcode indicate where the inputs and outputs are, not their values.\n",
    "\n",
    "Once you're done processing an opcode, move to the next one by stepping forward 4 positions.\n",
    "    \n",
    "Once you have a working computer, the first step is to restore the gravity assist program (your puzzle input) to the \"1202 program alarm\" state it had just before the last computer caught fire. To do this, before running the program, replace position 1 with the value 12 and replace position 2 with the value 2. What value is left at position 0 after the program halts?\"</p>\n",
    "\n",
    "### Part 2\n",
    "\n",
    "To complete the gravity assist, you need to determine what pair of inputs produces the output 19690720.\n",
    "\n",
    "The inputs should still be provided to the program by replacing the values at addresses 1 and 2, just like before. In this program, the value placed in address 1 is called the noun, and the value placed in address 2 is called the verb. Each of the two input values will be between 0 and 99, inclusive.\n",
    "\n",
    "Once the program has halted, its output is available at address 0, also just like before. Each time you try a pair of inputs, make sure you first reset the computer's memory to the values in the program (your puzzle input) - in other words, don't reuse memory from a previous attempt.\n",
    "\n",
    "Find the input noun and verb that cause the program to produce the output 19690720. What is 100 * noun + verb? (For example, if noun=12 and verb=2, the answer would be 1202."
   ]
  },
  {
   "cell_type": "code",
   "execution_count": 52,
   "metadata": {},
   "outputs": [
    {
     "name": "stdout",
     "output_type": "stream",
     "text": [
      "5482655\n"
     ]
    }
   ],
   "source": [
    "#part 1\n",
    "f = open(\"Data/day2.txt\", \"r\")\n",
    "\n",
    "data = f.read()\n",
    "\n",
    "#declare a function to do list-ify the string of digits. also ensure that original data is not modified. Cast digits to be uniform\n",
    "def sanitizestring(handler):\n",
    "    originalprograms = handler.split(\",\")\n",
    "    x = 0\n",
    "    for i in originalprograms:\n",
    "        originalprograms[x] = int(i)\n",
    "        x = x + 1\n",
    "    return originalprograms\n",
    "\n",
    "def runcomputer(noun, verb, string):\n",
    "    start = 0\n",
    "    code = sanitizestring(string) #declare fresh data everytime the function is called. \n",
    "    code[1] = noun\n",
    "    code[2] = verb\n",
    "    while code[start] != 99:\n",
    "        if code[start] == 1: #if opcode is 1, add the values found in location indexes factor1 and factor 2 and store in the index resultpos\n",
    "            factor1 = code[start + 1]\n",
    "            factor2 = code[start + 2]\n",
    "            resultpos = code[start + 3]\n",
    "            code[resultpos] = code[factor1] + code[factor2]\n",
    "            start = start + 4 #move to the next intcode\n",
    "        elif code[start] == 2:#if opcode is 2, multiply the values found in location indexes factor1 and factor 2 and store in the index resultpos\n",
    "            factor1 = code[start + 1]\n",
    "            factor2 = code[start + 2]\n",
    "            resultpos = code[start + 3]\n",
    "            code[resultpos] = code[factor1] * code[factor2]\n",
    "            start = start + 4\n",
    "        else:\n",
    "            raise Exception(\"Invalid start code \" + str(code[start])) #throw error if the digit in the opcode position is not known \n",
    "            break\n",
    "\n",
    "    return code[0] #return the output of the program on the first index\n",
    "\n",
    "print(runcomputer(12, 2, data))\n"
   ]
  },
  {
   "cell_type": "code",
   "execution_count": 55,
   "metadata": {},
   "outputs": [
    {
     "name": "stdout",
     "output_type": "stream",
     "text": [
      "Noun: 49. Verb: 67. error code 4967\n"
     ]
    }
   ],
   "source": [
    "#part 2\n",
    "#loop through full ranges looking for the desired output and outputting the current state.\n",
    "\n",
    "for i in range(0, 99):\n",
    "    for x in range(0, 99):\n",
    "        if runcomputer(i, x, data) == 19690720:\n",
    "            errorcode = 100 * i + x\n",
    "            print(f\"Noun: {i}. Verb: {x}. error code {errorcode}\")\n",
    "\n",
    "f.close()"
   ]
  }
 ],
 "metadata": {
  "kernelspec": {
   "display_name": "Python 3",
   "language": "python",
   "name": "python3"
  },
  "language_info": {
   "codemirror_mode": {
    "name": "ipython",
    "version": 3
   },
   "file_extension": ".py",
   "mimetype": "text/x-python",
   "name": "python",
   "nbconvert_exporter": "python",
   "pygments_lexer": "ipython3",
   "version": "3.8.1"
  }
 },
 "nbformat": 4,
 "nbformat_minor": 4
}
